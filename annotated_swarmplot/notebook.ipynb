{
 "cells": [
  {
   "cell_type": "code",
   "execution_count": 7,
   "metadata": {},
   "outputs": [],
   "source": [
    "import numpy as np\n",
    "import pandas as pd\n",
    "import seaborn as sns\n",
    "import matplotlib.pyplot as plt\n",
    "\n",
    "df = pd.read_csv(\"risk-work-inventory.csv\")"
   ]
  },
  {
   "cell_type": "markdown",
   "metadata": {},
   "source": [
    "Create an x and y to build the plot from. We're going to plot story points by risk score."
   ]
  },
  {
   "cell_type": "code",
   "execution_count": 8,
   "metadata": {
    "scrolled": true
   },
   "outputs": [
    {
     "data": {
      "text/plain": [
       "0      2\n",
       "1      5\n",
       "2      8\n",
       "3      5\n",
       "4      5\n",
       "5      2\n",
       "6      5\n",
       "7      5\n",
       "8      3\n",
       "9      8\n",
       "10     3\n",
       "11     2\n",
       "12     3\n",
       "13    13\n",
       "14     2\n",
       "15     2\n",
       "16     5\n",
       "17     3\n",
       "18     3\n",
       "19     2\n",
       "20     8\n",
       "21     5\n",
       "22     5\n",
       "23     2\n",
       "24     2\n",
       "25     5\n",
       "26     5\n",
       "27    13\n",
       "28     8\n",
       "29     3\n",
       "30     3\n",
       "31     5\n",
       "32     5\n",
       "33     5\n",
       "34     5\n",
       "35     8\n",
       "36     2\n",
       "37     5\n",
       "38    10\n",
       "39     3\n",
       "Name: Story Points, dtype: int64"
      ]
     },
     "execution_count": 8,
     "metadata": {},
     "output_type": "execute_result"
    }
   ],
   "source": [
    "x = df['Story Points'].fillna(0)\n",
    "x"
   ]
  },
  {
   "cell_type": "code",
   "execution_count": 9,
   "metadata": {
    "scrolled": true
   },
   "outputs": [
    {
     "data": {
      "text/plain": [
       "0     1\n",
       "1     3\n",
       "2     2\n",
       "3     2\n",
       "4     2\n",
       "5     1\n",
       "6     1\n",
       "7     1\n",
       "8     1\n",
       "9     3\n",
       "10    3\n",
       "11    1\n",
       "12    3\n",
       "13    3\n",
       "14    1\n",
       "15    1\n",
       "16    2\n",
       "17    3\n",
       "18    2\n",
       "19    1\n",
       "20    3\n",
       "21    3\n",
       "22    1\n",
       "23    1\n",
       "24    1\n",
       "25    1\n",
       "26    2\n",
       "27    3\n",
       "28    1\n",
       "29    1\n",
       "30    1\n",
       "31    2\n",
       "32    2\n",
       "33    2\n",
       "34    2\n",
       "35    2\n",
       "36    3\n",
       "37    1\n",
       "38    1\n",
       "39    2\n",
       "Name: Risk, dtype: int64"
      ]
     },
     "execution_count": 9,
     "metadata": {},
     "output_type": "execute_result"
    }
   ],
   "source": [
    "y = df['Risk'].fillna(0)\n",
    "y"
   ]
  },
  {
   "cell_type": "markdown",
   "metadata": {},
   "source": [
    "To create the annotations, we'll need to assign a name to each dot. Since we're using a swarm plot, we really just have buckets... as many buckets as there are unique risk scores. So it doesn't matter which name goes to which dot as long as it's in the right bucket.\n",
    "\n",
    "To get the list of names in the bucket for Risk == 3:"
   ]
  },
  {
   "cell_type": "code",
   "execution_count": 10,
   "metadata": {},
   "outputs": [
    {
     "data": {
      "text/html": [
       "<div>\n",
       "<style scoped>\n",
       "    .dataframe tbody tr th:only-of-type {\n",
       "        vertical-align: middle;\n",
       "    }\n",
       "\n",
       "    .dataframe tbody tr th {\n",
       "        vertical-align: top;\n",
       "    }\n",
       "\n",
       "    .dataframe thead th {\n",
       "        text-align: right;\n",
       "    }\n",
       "</style>\n",
       "<table border=\"1\" class=\"dataframe\">\n",
       "  <thead>\n",
       "    <tr style=\"text-align: right;\">\n",
       "      <th></th>\n",
       "      <th>Feature Name</th>\n",
       "    </tr>\n",
       "  </thead>\n",
       "  <tbody>\n",
       "    <tr>\n",
       "      <th>1</th>\n",
       "      <td>blind brothers</td>\n",
       "    </tr>\n",
       "    <tr>\n",
       "      <th>9</th>\n",
       "      <td>compose lamp</td>\n",
       "    </tr>\n",
       "    <tr>\n",
       "      <th>10</th>\n",
       "      <td>copy opinion</td>\n",
       "    </tr>\n",
       "    <tr>\n",
       "      <th>12</th>\n",
       "      <td>determine boot</td>\n",
       "    </tr>\n",
       "    <tr>\n",
       "      <th>13</th>\n",
       "      <td>discover dinosaurs</td>\n",
       "    </tr>\n",
       "    <tr>\n",
       "      <th>17</th>\n",
       "      <td>feel discussion</td>\n",
       "    </tr>\n",
       "    <tr>\n",
       "      <th>20</th>\n",
       "      <td>judge slope</td>\n",
       "    </tr>\n",
       "    <tr>\n",
       "      <th>21</th>\n",
       "      <td>launch account</td>\n",
       "    </tr>\n",
       "    <tr>\n",
       "      <th>27</th>\n",
       "      <td>rate interest</td>\n",
       "    </tr>\n",
       "    <tr>\n",
       "      <th>36</th>\n",
       "      <td>split silver</td>\n",
       "    </tr>\n",
       "  </tbody>\n",
       "</table>\n",
       "</div>"
      ],
      "text/plain": [
       "          Feature Name\n",
       "1       blind brothers\n",
       "9         compose lamp\n",
       "10        copy opinion\n",
       "12      determine boot\n",
       "13  discover dinosaurs\n",
       "17     feel discussion\n",
       "20         judge slope\n",
       "21      launch account\n",
       "27       rate interest\n",
       "36        split silver"
      ]
     },
     "execution_count": 10,
     "metadata": {},
     "output_type": "execute_result"
    }
   ],
   "source": [
    "#ndf.loc[(ndf['Risk'] == 3.0)]\n",
    "df[df['Risk'] == 3.0][['Feature Name']]"
   ]
  },
  {
   "cell_type": "markdown",
   "metadata": {},
   "source": [
    "The \"buckets\" I'm referring to are actually called [collections](https://matplotlib.org/3.2.1/api/collections_api.html) in matplotlib. "
   ]
  },
  {
   "cell_type": "code",
   "execution_count": 11,
   "metadata": {
    "scrolled": false
   },
   "outputs": [
    {
     "data": {
      "application/vnd.jupyter.widget-view+json": {
       "model_id": "",
       "version_major": 2,
       "version_minor": 0
      },
      "text/plain": [
       "Canvas(toolbar=Toolbar(toolitems=[('Home', 'Reset original view', 'home', 'home'), ('Back', 'Back to previous …"
      ]
     },
     "metadata": {},
     "output_type": "display_data"
    },
    {
     "data": {
      "text/plain": [
       "[<matplotlib.collections.PathCollection at 0x1a269e71d0>,\n",
       " <matplotlib.collections.PathCollection at 0x1a25a50ad0>,\n",
       " <matplotlib.collections.PathCollection at 0x1a269e7b50>,\n",
       " <matplotlib.collections.PathCollection at 0x1a269e7f90>,\n",
       " <matplotlib.collections.PathCollection at 0x1a269e7ed0>,\n",
       " <matplotlib.collections.PathCollection at 0x1a26714490>]"
      ]
     },
     "execution_count": 11,
     "metadata": {},
     "output_type": "execute_result"
    }
   ],
   "source": [
    "%matplotlib ipympl\n",
    "\n",
    "\n",
    "sw = sns.swarmplot(x, y)\n",
    "sw.collections"
   ]
  },
  {
   "cell_type": "markdown",
   "metadata": {},
   "source": [
    "We get the specific coordinates of each point in the bucket by calling get_offsets()."
   ]
  },
  {
   "cell_type": "code",
   "execution_count": 12,
   "metadata": {},
   "outputs": [],
   "source": [
    "pts = np.sort(x.unique())"
   ]
  },
  {
   "cell_type": "code",
   "execution_count": 13,
   "metadata": {
    "scrolled": true
   },
   "outputs": [
    {
     "data": {
      "text/plain": [
       "array([ 2,  3,  5,  8, 10, 13])"
      ]
     },
     "execution_count": 13,
     "metadata": {},
     "output_type": "execute_result"
    }
   ],
   "source": [
    "pts"
   ]
  },
  {
   "cell_type": "code",
   "execution_count": 14,
   "metadata": {},
   "outputs": [
    {
     "data": {
      "text/plain": [
       "array([[5]])"
      ]
     },
     "execution_count": 14,
     "metadata": {},
     "output_type": "execute_result"
    }
   ],
   "source": [
    "np.argwhere(pts==13)"
   ]
  },
  {
   "cell_type": "markdown",
   "metadata": {},
   "source": [
    "Now, if we had a story point value of n, it would go to bucket..."
   ]
  },
  {
   "cell_type": "code",
   "execution_count": 15,
   "metadata": {},
   "outputs": [],
   "source": [
    "def ptstobucket(n, x=x, sw=sw):\n",
    "    pts = np.sort(x.unique())\n",
    "    t_space = np.linspace(0, len(sw.collections)-1, len(pts))\n",
    "    idxs = np.argwhere(pts==n)\n",
    "    if len(idxs) > 0:\n",
    "        return t_space[idxs[0]]"
   ]
  },
  {
   "cell_type": "code",
   "execution_count": 16,
   "metadata": {},
   "outputs": [
    {
     "name": "stdout",
     "output_type": "stream",
     "text": [
      "2: [0.]\n",
      "3: [1.]\n",
      "5: [2.]\n",
      "8: [3.]\n",
      "10: [4.]\n",
      "13: [5.]\n"
     ]
    }
   ],
   "source": [
    "for n in pts:\n",
    "    print(f\"{n}: {ptstobucket(n)}\")"
   ]
  },
  {
   "cell_type": "code",
   "execution_count": 17,
   "metadata": {
    "scrolled": true
   },
   "outputs": [
    {
     "name": "stdout",
     "output_type": "stream",
     "text": [
      "[[-0.      1.    ]\n",
      " [-0.0882  1.    ]\n",
      " [ 0.0882  1.    ]\n",
      " [ 0.1764  1.    ]\n",
      " [-0.1764  1.    ]\n",
      " [ 0.2646  1.    ]\n",
      " [-0.2646  1.    ]\n",
      " [ 0.3528  1.    ]\n",
      " [-0.      3.    ]]\n",
      "[[1.     1.    ]\n",
      " [0.9116 1.    ]\n",
      " [1.088  1.    ]\n",
      " [1.     2.    ]\n",
      " [0.9116 2.    ]\n",
      " [1.     3.    ]\n",
      " [0.9116 3.    ]\n",
      " [1.088  3.    ]]\n",
      "[[2.    1.   ]\n",
      " [1.912 1.   ]\n",
      " [2.088 1.   ]\n",
      " [1.823 1.   ]\n",
      " [2.176 1.   ]\n",
      " [2.    2.   ]\n",
      " [1.912 2.   ]\n",
      " [2.088 2.   ]\n",
      " [1.823 2.   ]\n",
      " [2.176 2.   ]\n",
      " [1.735 2.   ]\n",
      " [2.264 2.   ]\n",
      " [1.647 2.   ]\n",
      " [2.    3.   ]\n",
      " [1.912 3.   ]]\n",
      "[[3.    1.   ]\n",
      " [3.    2.   ]\n",
      " [2.912 2.   ]\n",
      " [3.    3.   ]\n",
      " [2.912 3.   ]]\n",
      "[[4. 1.]]\n",
      "[[5.   3.  ]\n",
      " [4.91 3.  ]]\n"
     ]
    }
   ],
   "source": [
    "for c in sw.collections:\n",
    "    print(c.get_offsets().astype(np.float16))"
   ]
  },
  {
   "cell_type": "markdown",
   "metadata": {},
   "source": [
    "Create a translation function that will accurately convert offsets into pts values.\n",
    "\n",
    "Determine the bucket that is closest to the given value by calculating the distance between each bucket and the value and then taking the lowest distance."
   ]
  },
  {
   "cell_type": "code",
   "execution_count": 18,
   "metadata": {},
   "outputs": [],
   "source": [
    "def offsettopts(n):\n",
    "    buckets = np.linspace(0,len(sw.collections)-1,len(sw.collections))\n",
    "    distances = np.abs(buckets - n)\n",
    "    bucket = distances.argmin()\n",
    "    return pts[bucket]"
   ]
  },
  {
   "cell_type": "code",
   "execution_count": 19,
   "metadata": {},
   "outputs": [
    {
     "data": {
      "text/plain": [
       "2"
      ]
     },
     "execution_count": 19,
     "metadata": {},
     "output_type": "execute_result"
    }
   ],
   "source": [
    "offsettopts(0)"
   ]
  },
  {
   "cell_type": "code",
   "execution_count": 20,
   "metadata": {},
   "outputs": [
    {
     "data": {
      "text/plain": [
       "13"
      ]
     },
     "execution_count": 20,
     "metadata": {},
     "output_type": "execute_result"
    }
   ],
   "source": [
    "offsettopts(6)"
   ]
  },
  {
   "cell_type": "code",
   "execution_count": 21,
   "metadata": {
    "scrolled": true
   },
   "outputs": [
    {
     "name": "stdout",
     "output_type": "stream",
     "text": [
      "-2.220446049250313e-16: 2\n",
      "-0.08820564516129048: 2\n",
      "0.08820564516129026: 2\n",
      "0.17641129032258052: 2\n",
      "-0.17641129032258096: 2\n",
      "0.26461693548387055: 2\n",
      "-0.2646169354838712: 2\n",
      "0.3528225806451608: 2\n",
      "-2.220446049250313e-16: 2\n",
      "1.0: 3\n",
      "0.9117943548387095: 3\n",
      "1.08820564516129: 3\n",
      "1.0: 3\n",
      "0.9117943548387095: 3\n",
      "1.0: 3\n",
      "0.9117943548387095: 3\n",
      "1.08820564516129: 3\n",
      "1.9999999999999996: 5\n",
      "1.911794354838709: 5\n",
      "2.08820564516129: 5\n",
      "1.8235887096774182: 5\n",
      "2.1764112903225805: 5\n",
      "1.9999999999999996: 5\n",
      "1.911794354838709: 5\n",
      "2.08820564516129: 5\n",
      "1.8235887096774182: 5\n",
      "2.1764112903225805: 5\n",
      "1.7353830645161277: 5\n",
      "2.264616935483871: 5\n",
      "1.6471774193548372: 5\n",
      "1.9999999999999996: 5\n",
      "1.911794354838709: 5\n",
      "3.0: 8\n",
      "3.0: 8\n",
      "2.911794354838709: 8\n",
      "3.0: 8\n",
      "2.911794354838709: 8\n",
      "3.999999999999999: 10\n",
      "4.999999999999999: 13\n",
      "4.911794354838709: 13\n"
     ]
    }
   ],
   "source": [
    "for c in sw.collections:\n",
    "    for (i,j) in c.get_offsets():\n",
    "        print(f\"{i}: {offsettopts(i)}\")"
   ]
  },
  {
   "cell_type": "markdown",
   "metadata": {},
   "source": [
    "So, for each offset, we can assign the first name that fits the criteria and then remove it from the list. We'll take the first one by using the head() method and remove it by using drop().\n",
    "\n",
    "The criteria are... given that (i, j) = offset:\n",
    "* `offsettopts(i) = pts`\n",
    "* `j = risk`"
   ]
  },
  {
   "cell_type": "code",
   "execution_count": 23,
   "metadata": {},
   "outputs": [
    {
     "data": {
      "text/html": [
       "<div>\n",
       "<style scoped>\n",
       "    .dataframe tbody tr th:only-of-type {\n",
       "        vertical-align: middle;\n",
       "    }\n",
       "\n",
       "    .dataframe tbody tr th {\n",
       "        vertical-align: top;\n",
       "    }\n",
       "\n",
       "    .dataframe thead th {\n",
       "        text-align: right;\n",
       "    }\n",
       "</style>\n",
       "<table border=\"1\" class=\"dataframe\">\n",
       "  <thead>\n",
       "    <tr style=\"text-align: right;\">\n",
       "      <th></th>\n",
       "      <th>Feature Name</th>\n",
       "    </tr>\n",
       "  </thead>\n",
       "  <tbody>\n",
       "    <tr>\n",
       "      <th>8</th>\n",
       "      <td>collect chance</td>\n",
       "    </tr>\n",
       "    <tr>\n",
       "      <th>29</th>\n",
       "      <td>report chicken</td>\n",
       "    </tr>\n",
       "    <tr>\n",
       "      <th>30</th>\n",
       "      <td>represent powder</td>\n",
       "    </tr>\n",
       "  </tbody>\n",
       "</table>\n",
       "</div>"
      ],
      "text/plain": [
       "        Feature Name\n",
       "8     collect chance\n",
       "29    report chicken\n",
       "30  represent powder"
      ]
     },
     "execution_count": 23,
     "metadata": {},
     "output_type": "execute_result"
    }
   ],
   "source": [
    "j = 1\n",
    "i = 1.102906586021505\n",
    "names = df[(df['Story Points'] == offsettopts(i)) & (df['Risk'] == j)][['Feature Name']]\n",
    "names"
   ]
  },
  {
   "cell_type": "code",
   "execution_count": 24,
   "metadata": {},
   "outputs": [
    {
     "data": {
      "text/plain": [
       "'collect chance'"
      ]
     },
     "execution_count": 24,
     "metadata": {},
     "output_type": "execute_result"
    }
   ],
   "source": [
    "names.head(1).values.all()"
   ]
  },
  {
   "cell_type": "markdown",
   "metadata": {},
   "source": [
    "We'll call our lookup table, which will be keyed by point coordinate, nlookup."
   ]
  },
  {
   "cell_type": "code",
   "execution_count": 27,
   "metadata": {
    "scrolled": true
   },
   "outputs": [
    {
     "name": "stdout",
     "output_type": "stream",
     "text": [
      "Adding afford wire for -0.0,1.0\n",
      "Adding box north for -0.08819580078125,1.0\n",
      "Adding describe stream for 0.08819580078125,1.0\n",
      "Adding embarrass clover for 0.1763916015625,1.0\n",
      "Adding escape apples for -0.1763916015625,1.0\n",
      "Adding influence brush for 0.2646484375,1.0\n",
      "Adding officiate week for -0.2646484375,1.0\n",
      "Adding pick shirt for 0.352783203125,1.0\n",
      "Adding split silver for -0.0,3.0\n",
      "Adding collect chance for 1.0,1.0\n",
      "Adding report chicken for 0.91162109375,1.0\n",
      "Adding represent powder for 1.087890625,1.0\n",
      "Adding flow fog for 1.0,2.0\n",
      "Adding translate furniture for 0.91162109375,2.0\n",
      "Adding copy opinion for 1.0,3.0\n",
      "Adding determine boot for 0.91162109375,3.0\n",
      "Adding feel discussion for 1.087890625,3.0\n",
      "Adding build table for 2.0,1.0\n",
      "Adding burn window for 1.912109375,1.0\n",
      "Adding manage existence for 2.087890625,1.0\n",
      "Adding prevent apparatus for 1.8232421875,1.0\n",
      "Adding study snails for 2.17578125,1.0\n",
      "Adding bolt mask for 2.0,2.0\n",
      "Adding bow brush for 1.912109375,2.0\n",
      "Adding estimate history for 2.087890625,2.0\n",
      "Adding queue spring for 1.8232421875,2.0\n",
      "Adding resolve twig for 2.17578125,2.0\n",
      "Adding retire locket for 1.7353515625,2.0\n",
      "Adding select day for 2.263671875,2.0\n",
      "Adding sign friends for 1.6474609375,2.0\n",
      "Adding blind brothers for 2.0,3.0\n",
      "Adding launch account for 1.912109375,3.0\n",
      "Adding reach quartz for 3.0,1.0\n",
      "Adding boast cow for 3.0,2.0\n",
      "Adding sketch doctor for 2.912109375,2.0\n",
      "Adding compose lamp for 3.0,3.0\n",
      "Adding judge slope for 2.912109375,3.0\n",
      "Adding suggest bite for 4.0,1.0\n",
      "Adding discover dinosaurs for 5.0,3.0\n",
      "Adding rate interest for 4.91015625,3.0\n"
     ]
    }
   ],
   "source": [
    "nlookup = {}\n",
    "df = df.fillna(0)\n",
    "for c in sw.collections:\n",
    "    for (i, j) in c.get_offsets().astype(np.float16):\n",
    "        name = df[(df['Story Points'] == offsettopts(i)) & (df['Risk'] == j)][['Feature Name']].head(1)\n",
    "        print(f\"Adding {name.values.all()} for {i},{j}\")\n",
    "        nlookup[(i,j)] = name.values.all()\n",
    "        df = df.drop(name.index)\n"
   ]
  },
  {
   "cell_type": "markdown",
   "metadata": {},
   "source": [
    "At this point, the DataFrame should be empty. "
   ]
  },
  {
   "cell_type": "code",
   "execution_count": 29,
   "metadata": {},
   "outputs": [
    {
     "data": {
      "text/html": [
       "<div>\n",
       "<style scoped>\n",
       "    .dataframe tbody tr th:only-of-type {\n",
       "        vertical-align: middle;\n",
       "    }\n",
       "\n",
       "    .dataframe tbody tr th {\n",
       "        vertical-align: top;\n",
       "    }\n",
       "\n",
       "    .dataframe thead th {\n",
       "        text-align: right;\n",
       "    }\n",
       "</style>\n",
       "<table border=\"1\" class=\"dataframe\">\n",
       "  <thead>\n",
       "    <tr style=\"text-align: right;\">\n",
       "      <th></th>\n",
       "      <th>Risk</th>\n",
       "      <th>Story Points</th>\n",
       "      <th>Feature Name</th>\n",
       "    </tr>\n",
       "  </thead>\n",
       "  <tbody>\n",
       "  </tbody>\n",
       "</table>\n",
       "</div>"
      ],
      "text/plain": [
       "Empty DataFrame\n",
       "Columns: [Risk, Story Points, Feature Name]\n",
       "Index: []"
      ]
     },
     "execution_count": 29,
     "metadata": {},
     "output_type": "execute_result"
    }
   ],
   "source": [
    "df"
   ]
  },
  {
   "cell_type": "markdown",
   "metadata": {},
   "source": [
    "The nlookup dict should have an entry for every record that was in df."
   ]
  },
  {
   "cell_type": "code",
   "execution_count": 30,
   "metadata": {},
   "outputs": [
    {
     "data": {
      "text/plain": [
       "40"
      ]
     },
     "execution_count": 30,
     "metadata": {},
     "output_type": "execute_result"
    }
   ],
   "source": [
    "len(nlookup)"
   ]
  },
  {
   "cell_type": "markdown",
   "metadata": {},
   "source": [
    "Now we need to define our annotation function to lookup the name for the dot being hovered over by the mouse pointer. This code was adapted from the great example given by [ImportanceOfBeingEarnest](https://stackoverflow.com/users/4124317/importanceofbeingernest), who is apparently a member of the matplotlib dev team, in [this Stack Overflow post](https://stackoverflow.com/questions/7908636/possible-to-make-labels-appear-when-hovering-over-a-point-in-matplotlib)."
   ]
  },
  {
   "cell_type": "code",
   "execution_count": 31,
   "metadata": {
    "scrolled": false
   },
   "outputs": [
    {
     "data": {
      "application/vnd.jupyter.widget-view+json": {
       "model_id": "f91bbc865e68404ab274499e62fca619",
       "version_major": 2,
       "version_minor": 0
      },
      "text/plain": [
       "Canvas(toolbar=Toolbar(toolitems=[('Home', 'Reset original view', 'home', 'home'), ('Back', 'Back to previous …"
      ]
     },
     "metadata": {},
     "output_type": "display_data"
    },
    {
     "data": {
      "text/plain": [
       "7"
      ]
     },
     "execution_count": 31,
     "metadata": {},
     "output_type": "execute_result"
    }
   ],
   "source": [
    "%matplotlib ipympl\n",
    "\n",
    "sw = sns.swarmplot(x, y)\n",
    "annot = sw.annotate(\"\", xy=(0,0), xytext=(20,20),textcoords=\"offset points\",\n",
    "                    bbox=dict(boxstyle=\"round\", fc=\"w\"),\n",
    "                    arrowprops=dict(arrowstyle=\"->\"))\n",
    "annot.set_visible(False)\n",
    "curdot = None\n",
    "\n",
    "def update_annot(pc, ind):\n",
    "    pos = pc.get_offsets()[ind[\"ind\"][0]]\n",
    "    annot.xy = pos\n",
    "    i, j = pos.astype(np.float16)\n",
    "    text = nlookup[(i,j)]\n",
    "    annot.set_text(text)\n",
    "\n",
    "def hover(event):\n",
    "    global curdot\n",
    "    vis = annot.get_visible()\n",
    "    #print(event)\n",
    "    for pc in sw.collections:\n",
    "        (status, ind) = pc.contains(event)\n",
    "        if status is True:\n",
    "            update_annot(pc, ind)\n",
    "            annot.set_visible(True)\n",
    "            sw.figure.canvas.draw_idle()\n",
    "            break\n",
    "\n",
    "    if status is False and vis:\n",
    "        annot.set_visible(False)\n",
    "        sw.figure.canvas.draw_idle()\n",
    "                \n",
    "sw.figure.canvas.mpl_connect(\"motion_notify_event\", hover)"
   ]
  },
  {
   "cell_type": "code",
   "execution_count": null,
   "metadata": {},
   "outputs": [],
   "source": []
  }
 ],
 "metadata": {
  "kernelspec": {
   "display_name": "Python 3",
   "language": "python",
   "name": "python3"
  },
  "language_info": {
   "codemirror_mode": {
    "name": "ipython",
    "version": 3
   },
   "file_extension": ".py",
   "mimetype": "text/x-python",
   "name": "python",
   "nbconvert_exporter": "python",
   "pygments_lexer": "ipython3",
   "version": "3.7.6"
  }
 },
 "nbformat": 4,
 "nbformat_minor": 2
}
