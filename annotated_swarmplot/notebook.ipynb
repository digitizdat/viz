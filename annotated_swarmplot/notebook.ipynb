{
 "cells": [
  {
   "cell_type": "code",
   "execution_count": 1,
   "metadata": {},
   "outputs": [],
   "source": [
    "import numpy as np\n",
    "import pandas as pd\n",
    "import seaborn as sns\n",
    "import matplotlib.pyplot as plt\n",
    "\n",
    "df = pd.read_csv(\"Config Rule Inventory.csv\")"
   ]
  },
  {
   "cell_type": "markdown",
   "metadata": {},
   "source": [
    "We're not really interested in anything that is not considered in-scope, and we also don't want anything that was pointed 55 because that was John's way of noting work that was too big to estimate."
   ]
  },
  {
   "cell_type": "markdown",
   "metadata": {},
   "source": [
    "We only actually care about the values of the estimated points and the risk score."
   ]
  },
  {
   "cell_type": "code",
   "execution_count": 2,
   "metadata": {},
   "outputs": [
    {
     "data": {
      "text/plain": [
       "array(['No', 'Potential Add', 'Yes', nan], dtype=object)"
      ]
     },
     "execution_count": 2,
     "metadata": {},
     "output_type": "execute_result"
    }
   ],
   "source": [
    "df['In scope?'].unique()"
   ]
  },
  {
   "cell_type": "code",
   "execution_count": 118,
   "metadata": {
    "scrolled": true
   },
   "outputs": [
    {
     "data": {
      "text/html": [
       "<div>\n",
       "<style scoped>\n",
       "    .dataframe tbody tr th:only-of-type {\n",
       "        vertical-align: middle;\n",
       "    }\n",
       "\n",
       "    .dataframe tbody tr th {\n",
       "        vertical-align: top;\n",
       "    }\n",
       "\n",
       "    .dataframe thead th {\n",
       "        text-align: right;\n",
       "    }\n",
       "</style>\n",
       "<table border=\"1\" class=\"dataframe\">\n",
       "  <thead>\n",
       "    <tr style=\"text-align: right;\">\n",
       "      <th></th>\n",
       "      <th>Risk</th>\n",
       "      <th>Pts to Automate Enforcement</th>\n",
       "      <th>Feature / Rule Name</th>\n",
       "      <th>In scope?</th>\n",
       "    </tr>\n",
       "  </thead>\n",
       "  <tbody>\n",
       "    <tr>\n",
       "      <th>19</th>\n",
       "      <td>NaN</td>\n",
       "      <td>NaN</td>\n",
       "      <td>Mathilde Moreno</td>\n",
       "      <td>Potential Add</td>\n",
       "    </tr>\n",
       "    <tr>\n",
       "      <th>20</th>\n",
       "      <td>NaN</td>\n",
       "      <td>NaN</td>\n",
       "      <td>Konrad Prentice</td>\n",
       "      <td>Potential Add</td>\n",
       "    </tr>\n",
       "    <tr>\n",
       "      <th>21</th>\n",
       "      <td>NaN</td>\n",
       "      <td>NaN</td>\n",
       "      <td>Paolo Burnett</td>\n",
       "      <td>Potential Add</td>\n",
       "    </tr>\n",
       "    <tr>\n",
       "      <th>22</th>\n",
       "      <td>NaN</td>\n",
       "      <td>NaN</td>\n",
       "      <td>Connah Burt</td>\n",
       "      <td>Potential Add</td>\n",
       "    </tr>\n",
       "    <tr>\n",
       "      <th>23</th>\n",
       "      <td>1.0</td>\n",
       "      <td>2.0</td>\n",
       "      <td>Jaskaran Guerrero</td>\n",
       "      <td>Yes</td>\n",
       "    </tr>\n",
       "    <tr>\n",
       "      <th>24</th>\n",
       "      <td>3.0</td>\n",
       "      <td>5.0</td>\n",
       "      <td>Alfie-James Tomlinson</td>\n",
       "      <td>Yes</td>\n",
       "    </tr>\n",
       "    <tr>\n",
       "      <th>26</th>\n",
       "      <td>NaN</td>\n",
       "      <td>8.0</td>\n",
       "      <td>Layla-Rose Johnson</td>\n",
       "      <td>Yes</td>\n",
       "    </tr>\n",
       "    <tr>\n",
       "      <th>27</th>\n",
       "      <td>2.0</td>\n",
       "      <td>5.0</td>\n",
       "      <td>Dina Sawyer</td>\n",
       "      <td>Yes</td>\n",
       "    </tr>\n",
       "    <tr>\n",
       "      <th>28</th>\n",
       "      <td>2.0</td>\n",
       "      <td>5.0</td>\n",
       "      <td>Marguerite Novak</td>\n",
       "      <td>Yes</td>\n",
       "    </tr>\n",
       "    <tr>\n",
       "      <th>29</th>\n",
       "      <td>1.0</td>\n",
       "      <td>2.0</td>\n",
       "      <td>Maurice Foster</td>\n",
       "      <td>Yes</td>\n",
       "    </tr>\n",
       "    <tr>\n",
       "      <th>30</th>\n",
       "      <td>1.0</td>\n",
       "      <td>5.0</td>\n",
       "      <td>Kody Vaughan</td>\n",
       "      <td>Yes</td>\n",
       "    </tr>\n",
       "    <tr>\n",
       "      <th>31</th>\n",
       "      <td>1.0</td>\n",
       "      <td>5.0</td>\n",
       "      <td>Imogen Todd</td>\n",
       "      <td>Yes</td>\n",
       "    </tr>\n",
       "    <tr>\n",
       "      <th>32</th>\n",
       "      <td>1.0</td>\n",
       "      <td>3.0</td>\n",
       "      <td>Damien Bull</td>\n",
       "      <td>Yes</td>\n",
       "    </tr>\n",
       "    <tr>\n",
       "      <th>37</th>\n",
       "      <td>3.0</td>\n",
       "      <td>8.0</td>\n",
       "      <td>Emaan Yoder</td>\n",
       "      <td>Yes</td>\n",
       "    </tr>\n",
       "    <tr>\n",
       "      <th>38</th>\n",
       "      <td>3.0</td>\n",
       "      <td>3.0</td>\n",
       "      <td>Mohamed Keith</td>\n",
       "      <td>Yes</td>\n",
       "    </tr>\n",
       "    <tr>\n",
       "      <th>39</th>\n",
       "      <td>1.0</td>\n",
       "      <td>2.0</td>\n",
       "      <td>Dolly Fuentes</td>\n",
       "      <td>Yes</td>\n",
       "    </tr>\n",
       "    <tr>\n",
       "      <th>40</th>\n",
       "      <td>3.0</td>\n",
       "      <td>NaN</td>\n",
       "      <td>Alicja Casey</td>\n",
       "      <td>Yes</td>\n",
       "    </tr>\n",
       "    <tr>\n",
       "      <th>41</th>\n",
       "      <td>3.0</td>\n",
       "      <td>NaN</td>\n",
       "      <td>Millie-Rose Black</td>\n",
       "      <td>Yes</td>\n",
       "    </tr>\n",
       "    <tr>\n",
       "      <th>42</th>\n",
       "      <td>1.0</td>\n",
       "      <td>2.0</td>\n",
       "      <td>Elwood Beattie</td>\n",
       "      <td>Yes</td>\n",
       "    </tr>\n",
       "    <tr>\n",
       "      <th>43</th>\n",
       "      <td>1.0</td>\n",
       "      <td>2.0</td>\n",
       "      <td>Ciaran Velasquez</td>\n",
       "      <td>Yes</td>\n",
       "    </tr>\n",
       "    <tr>\n",
       "      <th>45</th>\n",
       "      <td>2.0</td>\n",
       "      <td>5.0</td>\n",
       "      <td>Will Roche</td>\n",
       "      <td>Yes</td>\n",
       "    </tr>\n",
       "    <tr>\n",
       "      <th>46</th>\n",
       "      <td>3.0</td>\n",
       "      <td>3.0</td>\n",
       "      <td>Evie-May Page</td>\n",
       "      <td>Yes</td>\n",
       "    </tr>\n",
       "    <tr>\n",
       "      <th>47</th>\n",
       "      <td>2.0</td>\n",
       "      <td>3.0</td>\n",
       "      <td>Wallace Lawrence</td>\n",
       "      <td>Yes</td>\n",
       "    </tr>\n",
       "    <tr>\n",
       "      <th>48</th>\n",
       "      <td>1.0</td>\n",
       "      <td>2.0</td>\n",
       "      <td>Connagh Murillo</td>\n",
       "      <td>Yes</td>\n",
       "    </tr>\n",
       "    <tr>\n",
       "      <th>49</th>\n",
       "      <td>3.0</td>\n",
       "      <td>8.0</td>\n",
       "      <td>Naomi Kennedy</td>\n",
       "      <td>Yes</td>\n",
       "    </tr>\n",
       "    <tr>\n",
       "      <th>50</th>\n",
       "      <td>3.0</td>\n",
       "      <td>5.0</td>\n",
       "      <td>Harun Fox</td>\n",
       "      <td>Yes</td>\n",
       "    </tr>\n",
       "    <tr>\n",
       "      <th>51</th>\n",
       "      <td>1.0</td>\n",
       "      <td>5.0</td>\n",
       "      <td>Stanislaw Kaufman</td>\n",
       "      <td>Yes</td>\n",
       "    </tr>\n",
       "    <tr>\n",
       "      <th>52</th>\n",
       "      <td>1.0</td>\n",
       "      <td>2.0</td>\n",
       "      <td>Nancy Wynn</td>\n",
       "      <td>Yes</td>\n",
       "    </tr>\n",
       "    <tr>\n",
       "      <th>53</th>\n",
       "      <td>1.0</td>\n",
       "      <td>2.0</td>\n",
       "      <td>Karl Manning</td>\n",
       "      <td>Yes</td>\n",
       "    </tr>\n",
       "    <tr>\n",
       "      <th>54</th>\n",
       "      <td>1.0</td>\n",
       "      <td>5.0</td>\n",
       "      <td>Rhia Wilder</td>\n",
       "      <td>Yes</td>\n",
       "    </tr>\n",
       "    <tr>\n",
       "      <th>55</th>\n",
       "      <td>2.0</td>\n",
       "      <td>5.0</td>\n",
       "      <td>Aran Hassan</td>\n",
       "      <td>Yes</td>\n",
       "    </tr>\n",
       "    <tr>\n",
       "      <th>57</th>\n",
       "      <td>NaN</td>\n",
       "      <td>NaN</td>\n",
       "      <td>Marius Kirby</td>\n",
       "      <td>Yes</td>\n",
       "    </tr>\n",
       "    <tr>\n",
       "      <th>58</th>\n",
       "      <td>3.0</td>\n",
       "      <td>13.0</td>\n",
       "      <td>Kiera Howarth</td>\n",
       "      <td>Yes</td>\n",
       "    </tr>\n",
       "    <tr>\n",
       "      <th>59</th>\n",
       "      <td>1.0</td>\n",
       "      <td>8.0</td>\n",
       "      <td>Kenzie Hammond</td>\n",
       "      <td>Yes</td>\n",
       "    </tr>\n",
       "    <tr>\n",
       "      <th>60</th>\n",
       "      <td>NaN</td>\n",
       "      <td>NaN</td>\n",
       "      <td>Ellenor Adkins</td>\n",
       "      <td>Yes</td>\n",
       "    </tr>\n",
       "    <tr>\n",
       "      <th>61</th>\n",
       "      <td>NaN</td>\n",
       "      <td>NaN</td>\n",
       "      <td>Lylah Lucas</td>\n",
       "      <td>Yes</td>\n",
       "    </tr>\n",
       "    <tr>\n",
       "      <th>62</th>\n",
       "      <td>2.0</td>\n",
       "      <td>5.0</td>\n",
       "      <td>Aria Tanner</td>\n",
       "      <td>Yes</td>\n",
       "    </tr>\n",
       "    <tr>\n",
       "      <th>63</th>\n",
       "      <td>2.0</td>\n",
       "      <td>5.0</td>\n",
       "      <td>Lucian Person</td>\n",
       "      <td>Yes</td>\n",
       "    </tr>\n",
       "    <tr>\n",
       "      <th>64</th>\n",
       "      <td>2.0</td>\n",
       "      <td>5.0</td>\n",
       "      <td>Annie Buck</td>\n",
       "      <td>Yes</td>\n",
       "    </tr>\n",
       "    <tr>\n",
       "      <th>65</th>\n",
       "      <td>2.0</td>\n",
       "      <td>5.0</td>\n",
       "      <td>Harlan Gray</td>\n",
       "      <td>Yes</td>\n",
       "    </tr>\n",
       "    <tr>\n",
       "      <th>66</th>\n",
       "      <td>2.0</td>\n",
       "      <td>8.0</td>\n",
       "      <td>Conan Kavanagh</td>\n",
       "      <td>Yes</td>\n",
       "    </tr>\n",
       "    <tr>\n",
       "      <th>67</th>\n",
       "      <td>3.0</td>\n",
       "      <td>2.0</td>\n",
       "      <td>Demi-Lee Blundell</td>\n",
       "      <td>Potential Add</td>\n",
       "    </tr>\n",
       "    <tr>\n",
       "      <th>68</th>\n",
       "      <td>1.0</td>\n",
       "      <td>5.0</td>\n",
       "      <td>Kadeem Carroll</td>\n",
       "      <td>Potential Add</td>\n",
       "    </tr>\n",
       "    <tr>\n",
       "      <th>69</th>\n",
       "      <td>1.0</td>\n",
       "      <td>10.0</td>\n",
       "      <td>Malcolm Humphrey</td>\n",
       "      <td>Yes</td>\n",
       "    </tr>\n",
       "    <tr>\n",
       "      <th>70</th>\n",
       "      <td>NaN</td>\n",
       "      <td>3.0</td>\n",
       "      <td>Rhian Floyd</td>\n",
       "      <td>Potential Add</td>\n",
       "    </tr>\n",
       "  </tbody>\n",
       "</table>\n",
       "</div>"
      ],
      "text/plain": [
       "    Risk  Pts to Automate Enforcement    Feature / Rule Name      In scope?\n",
       "19   NaN                          NaN        Mathilde Moreno  Potential Add\n",
       "20   NaN                          NaN        Konrad Prentice  Potential Add\n",
       "21   NaN                          NaN          Paolo Burnett  Potential Add\n",
       "22   NaN                          NaN            Connah Burt  Potential Add\n",
       "23   1.0                          2.0      Jaskaran Guerrero            Yes\n",
       "24   3.0                          5.0  Alfie-James Tomlinson            Yes\n",
       "26   NaN                          8.0     Layla-Rose Johnson            Yes\n",
       "27   2.0                          5.0            Dina Sawyer            Yes\n",
       "28   2.0                          5.0       Marguerite Novak            Yes\n",
       "29   1.0                          2.0         Maurice Foster            Yes\n",
       "30   1.0                          5.0           Kody Vaughan            Yes\n",
       "31   1.0                          5.0            Imogen Todd            Yes\n",
       "32   1.0                          3.0            Damien Bull            Yes\n",
       "37   3.0                          8.0            Emaan Yoder            Yes\n",
       "38   3.0                          3.0          Mohamed Keith            Yes\n",
       "39   1.0                          2.0          Dolly Fuentes            Yes\n",
       "40   3.0                          NaN           Alicja Casey            Yes\n",
       "41   3.0                          NaN      Millie-Rose Black            Yes\n",
       "42   1.0                          2.0         Elwood Beattie            Yes\n",
       "43   1.0                          2.0       Ciaran Velasquez            Yes\n",
       "45   2.0                          5.0             Will Roche            Yes\n",
       "46   3.0                          3.0          Evie-May Page            Yes\n",
       "47   2.0                          3.0       Wallace Lawrence            Yes\n",
       "48   1.0                          2.0        Connagh Murillo            Yes\n",
       "49   3.0                          8.0          Naomi Kennedy            Yes\n",
       "50   3.0                          5.0              Harun Fox            Yes\n",
       "51   1.0                          5.0      Stanislaw Kaufman            Yes\n",
       "52   1.0                          2.0             Nancy Wynn            Yes\n",
       "53   1.0                          2.0           Karl Manning            Yes\n",
       "54   1.0                          5.0            Rhia Wilder            Yes\n",
       "55   2.0                          5.0            Aran Hassan            Yes\n",
       "57   NaN                          NaN           Marius Kirby            Yes\n",
       "58   3.0                         13.0          Kiera Howarth            Yes\n",
       "59   1.0                          8.0         Kenzie Hammond            Yes\n",
       "60   NaN                          NaN         Ellenor Adkins            Yes\n",
       "61   NaN                          NaN            Lylah Lucas            Yes\n",
       "62   2.0                          5.0            Aria Tanner            Yes\n",
       "63   2.0                          5.0          Lucian Person            Yes\n",
       "64   2.0                          5.0             Annie Buck            Yes\n",
       "65   2.0                          5.0            Harlan Gray            Yes\n",
       "66   2.0                          8.0         Conan Kavanagh            Yes\n",
       "67   3.0                          2.0      Demi-Lee Blundell  Potential Add\n",
       "68   1.0                          5.0         Kadeem Carroll  Potential Add\n",
       "69   1.0                         10.0       Malcolm Humphrey            Yes\n",
       "70   NaN                          3.0            Rhian Floyd  Potential Add"
      ]
     },
     "execution_count": 118,
     "metadata": {},
     "output_type": "execute_result"
    }
   ],
   "source": [
    "ndf = df.loc[((df['In scope?'] == 'Yes') | (df['In scope?'] == 'Potential Add')) & (df['Pts to Automate Enforcement'] != 55)]\n",
    "ndf"
   ]
  },
  {
   "cell_type": "markdown",
   "metadata": {},
   "source": [
    "Create an x and y to build the plot from. We're going to plot story points by risk score."
   ]
  },
  {
   "cell_type": "code",
   "execution_count": 119,
   "metadata": {
    "scrolled": true
   },
   "outputs": [
    {
     "data": {
      "text/plain": [
       "19     0.0\n",
       "20     0.0\n",
       "21     0.0\n",
       "22     0.0\n",
       "23     2.0\n",
       "24     5.0\n",
       "26     8.0\n",
       "27     5.0\n",
       "28     5.0\n",
       "29     2.0\n",
       "30     5.0\n",
       "31     5.0\n",
       "32     3.0\n",
       "37     8.0\n",
       "38     3.0\n",
       "39     2.0\n",
       "40     0.0\n",
       "41     0.0\n",
       "42     2.0\n",
       "43     2.0\n",
       "45     5.0\n",
       "46     3.0\n",
       "47     3.0\n",
       "48     2.0\n",
       "49     8.0\n",
       "50     5.0\n",
       "51     5.0\n",
       "52     2.0\n",
       "53     2.0\n",
       "54     5.0\n",
       "55     5.0\n",
       "57     0.0\n",
       "58    13.0\n",
       "59     8.0\n",
       "60     0.0\n",
       "61     0.0\n",
       "62     5.0\n",
       "63     5.0\n",
       "64     5.0\n",
       "65     5.0\n",
       "66     8.0\n",
       "67     2.0\n",
       "68     5.0\n",
       "69    10.0\n",
       "70     3.0\n",
       "Name: Pts to Automate Enforcement, dtype: float64"
      ]
     },
     "execution_count": 119,
     "metadata": {},
     "output_type": "execute_result"
    }
   ],
   "source": [
    "x = ndf['Pts to Automate Enforcement'].fillna(0)\n",
    "x"
   ]
  },
  {
   "cell_type": "code",
   "execution_count": 120,
   "metadata": {
    "scrolled": true
   },
   "outputs": [
    {
     "data": {
      "text/plain": [
       "19    0.0\n",
       "20    0.0\n",
       "21    0.0\n",
       "22    0.0\n",
       "23    1.0\n",
       "24    3.0\n",
       "26    0.0\n",
       "27    2.0\n",
       "28    2.0\n",
       "29    1.0\n",
       "30    1.0\n",
       "31    1.0\n",
       "32    1.0\n",
       "37    3.0\n",
       "38    3.0\n",
       "39    1.0\n",
       "40    3.0\n",
       "41    3.0\n",
       "42    1.0\n",
       "43    1.0\n",
       "45    2.0\n",
       "46    3.0\n",
       "47    2.0\n",
       "48    1.0\n",
       "49    3.0\n",
       "50    3.0\n",
       "51    1.0\n",
       "52    1.0\n",
       "53    1.0\n",
       "54    1.0\n",
       "55    2.0\n",
       "57    0.0\n",
       "58    3.0\n",
       "59    1.0\n",
       "60    0.0\n",
       "61    0.0\n",
       "62    2.0\n",
       "63    2.0\n",
       "64    2.0\n",
       "65    2.0\n",
       "66    2.0\n",
       "67    3.0\n",
       "68    1.0\n",
       "69    1.0\n",
       "70    0.0\n",
       "Name: Risk, dtype: float64"
      ]
     },
     "execution_count": 120,
     "metadata": {},
     "output_type": "execute_result"
    }
   ],
   "source": [
    "y = ndf['Risk'].fillna(0)\n",
    "y"
   ]
  },
  {
   "cell_type": "markdown",
   "metadata": {},
   "source": [
    "To create the annotations, we'll need to assign a name to each dot. Since we're using a swarm plot, we really just have buckets... as many buckets as there are unique risk scores. So it doesn't matter which name goes to which dot as long as it's in the right bucket.\n",
    "\n",
    "To get the list of names in the bucket for Risk == 3:"
   ]
  },
  {
   "cell_type": "code",
   "execution_count": 121,
   "metadata": {},
   "outputs": [
    {
     "data": {
      "text/html": [
       "<div>\n",
       "<style scoped>\n",
       "    .dataframe tbody tr th:only-of-type {\n",
       "        vertical-align: middle;\n",
       "    }\n",
       "\n",
       "    .dataframe tbody tr th {\n",
       "        vertical-align: top;\n",
       "    }\n",
       "\n",
       "    .dataframe thead th {\n",
       "        text-align: right;\n",
       "    }\n",
       "</style>\n",
       "<table border=\"1\" class=\"dataframe\">\n",
       "  <thead>\n",
       "    <tr style=\"text-align: right;\">\n",
       "      <th></th>\n",
       "      <th>Feature / Rule Name</th>\n",
       "    </tr>\n",
       "  </thead>\n",
       "  <tbody>\n",
       "    <tr>\n",
       "      <th>24</th>\n",
       "      <td>Alfie-James Tomlinson</td>\n",
       "    </tr>\n",
       "    <tr>\n",
       "      <th>37</th>\n",
       "      <td>Emaan Yoder</td>\n",
       "    </tr>\n",
       "    <tr>\n",
       "      <th>38</th>\n",
       "      <td>Mohamed Keith</td>\n",
       "    </tr>\n",
       "    <tr>\n",
       "      <th>40</th>\n",
       "      <td>Alicja Casey</td>\n",
       "    </tr>\n",
       "    <tr>\n",
       "      <th>41</th>\n",
       "      <td>Millie-Rose Black</td>\n",
       "    </tr>\n",
       "    <tr>\n",
       "      <th>46</th>\n",
       "      <td>Evie-May Page</td>\n",
       "    </tr>\n",
       "    <tr>\n",
       "      <th>49</th>\n",
       "      <td>Naomi Kennedy</td>\n",
       "    </tr>\n",
       "    <tr>\n",
       "      <th>50</th>\n",
       "      <td>Harun Fox</td>\n",
       "    </tr>\n",
       "    <tr>\n",
       "      <th>58</th>\n",
       "      <td>Kiera Howarth</td>\n",
       "    </tr>\n",
       "    <tr>\n",
       "      <th>67</th>\n",
       "      <td>Demi-Lee Blundell</td>\n",
       "    </tr>\n",
       "  </tbody>\n",
       "</table>\n",
       "</div>"
      ],
      "text/plain": [
       "      Feature / Rule Name\n",
       "24  Alfie-James Tomlinson\n",
       "37            Emaan Yoder\n",
       "38          Mohamed Keith\n",
       "40           Alicja Casey\n",
       "41      Millie-Rose Black\n",
       "46          Evie-May Page\n",
       "49          Naomi Kennedy\n",
       "50              Harun Fox\n",
       "58          Kiera Howarth\n",
       "67      Demi-Lee Blundell"
      ]
     },
     "execution_count": 121,
     "metadata": {},
     "output_type": "execute_result"
    }
   ],
   "source": [
    "#ndf.loc[(ndf['Risk'] == 3.0)]\n",
    "ndf[ndf['Risk'] == 3.0][['Feature / Rule Name']]"
   ]
  },
  {
   "cell_type": "markdown",
   "metadata": {},
   "source": [
    "The \"buckets\" I'm referring to are actually called [collections](https://matplotlib.org/3.2.1/api/collections_api.html) in matplotlib. "
   ]
  },
  {
   "cell_type": "code",
   "execution_count": 122,
   "metadata": {
    "scrolled": false
   },
   "outputs": [
    {
     "data": {
      "application/vnd.jupyter.widget-view+json": {
       "model_id": "",
       "version_major": 2,
       "version_minor": 0
      },
      "text/plain": [
       "Canvas(toolbar=Toolbar(toolitems=[('Home', 'Reset original view', 'home', 'home'), ('Back', 'Back to previous …"
      ]
     },
     "metadata": {},
     "output_type": "display_data"
    },
    {
     "data": {
      "text/plain": [
       "[<matplotlib.collections.PathCollection at 0x1a266ae790>,\n",
       " <matplotlib.collections.PathCollection at 0x1a266ae810>,\n",
       " <matplotlib.collections.PathCollection at 0x1a266a9650>,\n",
       " <matplotlib.collections.PathCollection at 0x1a266a9390>,\n",
       " <matplotlib.collections.PathCollection at 0x1a266a9910>,\n",
       " <matplotlib.collections.PathCollection at 0x1a266a9990>,\n",
       " <matplotlib.collections.PathCollection at 0x10a9b6fd0>]"
      ]
     },
     "execution_count": 122,
     "metadata": {},
     "output_type": "execute_result"
    }
   ],
   "source": [
    "%matplotlib ipympl\n",
    "\n",
    "\n",
    "sw = sns.swarmplot(x, y)\n",
    "sw.collections"
   ]
  },
  {
   "cell_type": "markdown",
   "metadata": {},
   "source": [
    "We get the specific coordinates of each point in the bucket by calling get_offsets()."
   ]
  },
  {
   "cell_type": "code",
   "execution_count": 123,
   "metadata": {},
   "outputs": [],
   "source": [
    "pts = np.sort(x.unique())"
   ]
  },
  {
   "cell_type": "code",
   "execution_count": 124,
   "metadata": {
    "scrolled": true
   },
   "outputs": [
    {
     "data": {
      "text/plain": [
       "array([ 0.,  2.,  3.,  5.,  8., 10., 13.])"
      ]
     },
     "execution_count": 124,
     "metadata": {},
     "output_type": "execute_result"
    }
   ],
   "source": [
    "pts"
   ]
  },
  {
   "cell_type": "code",
   "execution_count": 125,
   "metadata": {},
   "outputs": [
    {
     "data": {
      "text/plain": [
       "array([[6]])"
      ]
     },
     "execution_count": 125,
     "metadata": {},
     "output_type": "execute_result"
    }
   ],
   "source": [
    "np.argwhere(pts==13)"
   ]
  },
  {
   "cell_type": "markdown",
   "metadata": {},
   "source": [
    "Now, if we had a story point value of n, it would go to bucket..."
   ]
  },
  {
   "cell_type": "code",
   "execution_count": 126,
   "metadata": {},
   "outputs": [],
   "source": [
    "def ptstobucket(n, x=x, sw=sw):\n",
    "    pts = np.sort(x.unique())\n",
    "    t_space = np.linspace(0, len(sw.collections)-1, len(pts))\n",
    "    idxs = np.argwhere(pts==n)\n",
    "    if len(idxs) > 0:\n",
    "        return t_space[idxs[0]]"
   ]
  },
  {
   "cell_type": "code",
   "execution_count": 127,
   "metadata": {},
   "outputs": [
    {
     "name": "stdout",
     "output_type": "stream",
     "text": [
      "0.0: [0.]\n",
      "2.0: [1.]\n",
      "3.0: [2.]\n",
      "5.0: [3.]\n",
      "8.0: [4.]\n",
      "10.0: [5.]\n",
      "13.0: [6.]\n"
     ]
    }
   ],
   "source": [
    "for n in pts:\n",
    "    print(f\"{n}: {ptstobucket(n)}\")"
   ]
  },
  {
   "cell_type": "code",
   "execution_count": 128,
   "metadata": {
    "scrolled": true
   },
   "outputs": [
    {
     "name": "stdout",
     "output_type": "stream",
     "text": [
      "[[ 0.      0.    ]\n",
      " [-0.1029  0.    ]\n",
      " [ 0.1029  0.    ]\n",
      " [-0.2058  0.    ]\n",
      " [ 0.2058  0.    ]\n",
      " [ 0.3088  0.    ]\n",
      " [-0.3088  0.    ]\n",
      " [ 0.      3.    ]\n",
      " [-0.1029  3.    ]]\n",
      "[[1.     1.    ]\n",
      " [0.897  1.    ]\n",
      " [1.103  1.    ]\n",
      " [0.794  1.    ]\n",
      " [1.206  1.    ]\n",
      " [0.6914 1.    ]\n",
      " [1.309  1.    ]\n",
      " [0.6    1.    ]\n",
      " [1.     3.    ]]\n",
      "[[2.    0.   ]\n",
      " [2.    1.   ]\n",
      " [2.    2.   ]\n",
      " [2.    3.   ]\n",
      " [1.897 3.   ]]\n",
      "[[3.    1.   ]\n",
      " [2.896 1.   ]\n",
      " [3.104 1.   ]\n",
      " [2.795 1.   ]\n",
      " [3.205 1.   ]\n",
      " [3.    2.   ]\n",
      " [2.896 2.   ]\n",
      " [3.104 2.   ]\n",
      " [2.795 2.   ]\n",
      " [3.205 2.   ]\n",
      " [2.691 2.   ]\n",
      " [3.309 2.   ]\n",
      " [2.6   2.   ]\n",
      " [3.    3.   ]\n",
      " [2.896 3.   ]]\n",
      "[[4.    0.   ]\n",
      " [4.    1.   ]\n",
      " [4.    2.   ]\n",
      " [4.    3.   ]\n",
      " [3.896 3.   ]]\n",
      "[[5. 1.]]\n",
      "[[6. 3.]]\n"
     ]
    }
   ],
   "source": [
    "for c in sw.collections:\n",
    "    print(c.get_offsets().astype(np.float16))"
   ]
  },
  {
   "cell_type": "markdown",
   "metadata": {},
   "source": [
    "Create a translation function that will accurately convert offsets into pts values.\n",
    "\n",
    "Determine the bucket that is closest to the given value by calculating the distance between each bucket and the value and then taking the lowest distance."
   ]
  },
  {
   "cell_type": "code",
   "execution_count": 129,
   "metadata": {},
   "outputs": [],
   "source": [
    "def offsettopts(n):\n",
    "    buckets = np.linspace(0,len(sw.collections)-1,len(sw.collections))\n",
    "    distances = np.abs(buckets - n)\n",
    "    bucket = distances.argmin()\n",
    "    return pts[bucket]"
   ]
  },
  {
   "cell_type": "code",
   "execution_count": 130,
   "metadata": {},
   "outputs": [
    {
     "data": {
      "text/plain": [
       "0.0"
      ]
     },
     "execution_count": 130,
     "metadata": {},
     "output_type": "execute_result"
    }
   ],
   "source": [
    "offsettopts(0)"
   ]
  },
  {
   "cell_type": "code",
   "execution_count": 131,
   "metadata": {},
   "outputs": [
    {
     "data": {
      "text/plain": [
       "13.0"
      ]
     },
     "execution_count": 131,
     "metadata": {},
     "output_type": "execute_result"
    }
   ],
   "source": [
    "offsettopts(6)"
   ]
  },
  {
   "cell_type": "code",
   "execution_count": 132,
   "metadata": {
    "scrolled": true
   },
   "outputs": [
    {
     "name": "stdout",
     "output_type": "stream",
     "text": [
      "0.0: 0.0\n",
      "-0.10290658602150549: 0.0\n",
      "0.10290658602150526: 0.0\n",
      "-0.20581317204301097: 0.0\n",
      "0.20581317204301075: 0.0\n",
      "0.308719758064516: 0.0\n",
      "-0.30871975806451646: 0.0\n",
      "0.0: 0.0\n",
      "-0.10290658602150549: 0.0\n",
      "1.0: 2.0\n",
      "0.8970934139784945: 2.0\n",
      "1.102906586021505: 2.0\n",
      "0.7941868279569895: 2.0\n",
      "1.2058131720430105: 2.0\n",
      "0.6912802419354844: 2.0\n",
      "1.3087197580645156: 2.0\n",
      "0.6: 2.0\n",
      "1.0: 2.0\n",
      "1.9999999999999996: 3.0\n",
      "1.9999999999999996: 3.0\n",
      "1.9999999999999996: 3.0\n",
      "1.9999999999999996: 3.0\n",
      "1.8970934139784945: 3.0\n",
      "3.0: 5.0\n",
      "2.897093413978494: 5.0\n",
      "3.102906586021506: 5.0\n",
      "2.794186827956989: 5.0\n",
      "3.205813172043011: 5.0\n",
      "3.0: 5.0\n",
      "2.897093413978494: 5.0\n",
      "3.102906586021506: 5.0\n",
      "2.794186827956989: 5.0\n",
      "3.205813172043011: 5.0\n",
      "2.691280241935483: 5.0\n",
      "3.308719758064517: 5.0\n",
      "2.6: 5.0\n",
      "3.0: 5.0\n",
      "2.897093413978494: 5.0\n",
      "3.999999999999999: 8.0\n",
      "3.999999999999999: 8.0\n",
      "3.999999999999999: 8.0\n",
      "3.999999999999999: 8.0\n",
      "3.897093413978493: 8.0\n",
      "4.999999999999999: 10.0\n",
      "6.0: 13.0\n"
     ]
    }
   ],
   "source": [
    "for c in sw.collections:\n",
    "    for (i,j) in c.get_offsets():\n",
    "        print(f\"{i}: {offsettopts(i)}\")"
   ]
  },
  {
   "cell_type": "markdown",
   "metadata": {},
   "source": [
    "So, for each offset, we can assign the first name that fits the criteria and then remove it from the list. We'll take the first one by using the head() method and remove it by using drop().\n",
    "\n",
    "The criteria are... given that (i, j) = offset:\n",
    "* `offsettopts(i) = pts`\n",
    "* `j = risk`"
   ]
  },
  {
   "cell_type": "code",
   "execution_count": 133,
   "metadata": {},
   "outputs": [
    {
     "data": {
      "text/html": [
       "<div>\n",
       "<style scoped>\n",
       "    .dataframe tbody tr th:only-of-type {\n",
       "        vertical-align: middle;\n",
       "    }\n",
       "\n",
       "    .dataframe tbody tr th {\n",
       "        vertical-align: top;\n",
       "    }\n",
       "\n",
       "    .dataframe thead th {\n",
       "        text-align: right;\n",
       "    }\n",
       "</style>\n",
       "<table border=\"1\" class=\"dataframe\">\n",
       "  <thead>\n",
       "    <tr style=\"text-align: right;\">\n",
       "      <th></th>\n",
       "      <th>Feature / Rule Name</th>\n",
       "    </tr>\n",
       "  </thead>\n",
       "  <tbody>\n",
       "    <tr>\n",
       "      <th>23</th>\n",
       "      <td>Jaskaran Guerrero</td>\n",
       "    </tr>\n",
       "    <tr>\n",
       "      <th>29</th>\n",
       "      <td>Maurice Foster</td>\n",
       "    </tr>\n",
       "    <tr>\n",
       "      <th>39</th>\n",
       "      <td>Dolly Fuentes</td>\n",
       "    </tr>\n",
       "    <tr>\n",
       "      <th>42</th>\n",
       "      <td>Elwood Beattie</td>\n",
       "    </tr>\n",
       "    <tr>\n",
       "      <th>43</th>\n",
       "      <td>Ciaran Velasquez</td>\n",
       "    </tr>\n",
       "    <tr>\n",
       "      <th>48</th>\n",
       "      <td>Connagh Murillo</td>\n",
       "    </tr>\n",
       "    <tr>\n",
       "      <th>52</th>\n",
       "      <td>Nancy Wynn</td>\n",
       "    </tr>\n",
       "    <tr>\n",
       "      <th>53</th>\n",
       "      <td>Karl Manning</td>\n",
       "    </tr>\n",
       "  </tbody>\n",
       "</table>\n",
       "</div>"
      ],
      "text/plain": [
       "   Feature / Rule Name\n",
       "23   Jaskaran Guerrero\n",
       "29      Maurice Foster\n",
       "39       Dolly Fuentes\n",
       "42      Elwood Beattie\n",
       "43    Ciaran Velasquez\n",
       "48     Connagh Murillo\n",
       "52          Nancy Wynn\n",
       "53        Karl Manning"
      ]
     },
     "execution_count": 133,
     "metadata": {},
     "output_type": "execute_result"
    }
   ],
   "source": [
    "j = 1\n",
    "i = 1.102906586021505\n",
    "names = ndf[(ndf['Pts to Automate Enforcement'] == offsettopts(i)) & (ndf['Risk'] == j)][['Feature / Rule Name']]\n",
    "names"
   ]
  },
  {
   "cell_type": "code",
   "execution_count": 134,
   "metadata": {},
   "outputs": [
    {
     "data": {
      "text/plain": [
       "'Jaskaran Guerrero'"
      ]
     },
     "execution_count": 134,
     "metadata": {},
     "output_type": "execute_result"
    }
   ],
   "source": [
    "names.head(1).values.all()"
   ]
  },
  {
   "cell_type": "markdown",
   "metadata": {},
   "source": [
    "We'll call our lookup table, which will be keyed by point coordinate, nlookup."
   ]
  },
  {
   "cell_type": "code",
   "execution_count": 135,
   "metadata": {
    "scrolled": true
   },
   "outputs": [
    {
     "name": "stdout",
     "output_type": "stream",
     "text": [
      "Adding Mathilde Moreno for 0.0,0.0\n",
      "Adding Konrad Prentice for -0.1029052734375,0.0\n",
      "Adding Paolo Burnett for 0.1029052734375,0.0\n",
      "Adding Connah Burt for -0.205810546875,0.0\n",
      "Adding Marius Kirby for 0.205810546875,0.0\n",
      "Adding Ellenor Adkins for 0.308837890625,0.0\n",
      "Adding Lylah Lucas for -0.308837890625,0.0\n",
      "Adding Alicja Casey for 0.0,3.0\n",
      "Adding Millie-Rose Black for -0.1029052734375,3.0\n",
      "Adding Jaskaran Guerrero for 1.0,1.0\n",
      "Adding Maurice Foster for 0.89697265625,1.0\n",
      "Adding Dolly Fuentes for 1.1025390625,1.0\n",
      "Adding Elwood Beattie for 0.7939453125,1.0\n",
      "Adding Ciaran Velasquez for 1.2060546875,1.0\n",
      "Adding Connagh Murillo for 0.69140625,1.0\n",
      "Adding Nancy Wynn for 1.30859375,1.0\n",
      "Adding Karl Manning for 0.60009765625,1.0\n",
      "Adding Demi-Lee Blundell for 1.0,3.0\n",
      "Adding Rhian Floyd for 2.0,0.0\n",
      "Adding Damien Bull for 2.0,1.0\n",
      "Adding Wallace Lawrence for 2.0,2.0\n",
      "Adding Mohamed Keith for 2.0,3.0\n",
      "Adding Evie-May Page for 1.8974609375,3.0\n",
      "Adding Kody Vaughan for 3.0,1.0\n",
      "Adding Imogen Todd for 2.896484375,1.0\n",
      "Adding Stanislaw Kaufman for 3.103515625,1.0\n",
      "Adding Rhia Wilder for 2.794921875,1.0\n",
      "Adding Kadeem Carroll for 3.205078125,1.0\n",
      "Adding Dina Sawyer for 3.0,2.0\n",
      "Adding Marguerite Novak for 2.896484375,2.0\n",
      "Adding Will Roche for 3.103515625,2.0\n",
      "Adding Aran Hassan for 2.794921875,2.0\n",
      "Adding Aria Tanner for 3.205078125,2.0\n",
      "Adding Lucian Person for 2.69140625,2.0\n",
      "Adding Annie Buck for 3.30859375,2.0\n",
      "Adding Harlan Gray for 2.599609375,2.0\n",
      "Adding Alfie-James Tomlinson for 3.0,3.0\n",
      "Adding Harun Fox for 2.896484375,3.0\n",
      "Adding Layla-Rose Johnson for 4.0,0.0\n",
      "Adding Kenzie Hammond for 4.0,1.0\n",
      "Adding Conan Kavanagh for 4.0,2.0\n",
      "Adding Emaan Yoder for 4.0,3.0\n",
      "Adding Naomi Kennedy for 3.896484375,3.0\n",
      "Adding Malcolm Humphrey for 5.0,1.0\n",
      "Adding Kiera Howarth for 6.0,3.0\n"
     ]
    }
   ],
   "source": [
    "nlookup = {}\n",
    "ndf = ndf.fillna(0)\n",
    "for c in sw.collections:\n",
    "    for (i, j) in c.get_offsets().astype(np.float16):\n",
    "        name = ndf[(ndf['Pts to Automate Enforcement'] == offsettopts(i)) & (ndf['Risk'] == j)][['Feature / Rule Name']].head(1)\n",
    "        print(f\"Adding {name.values.all()} for {i},{j}\")\n",
    "        nlookup[(i,j)] = name.values.all()\n",
    "        ndf = ndf.drop(name.index)\n"
   ]
  },
  {
   "cell_type": "markdown",
   "metadata": {},
   "source": [
    "At this point, the DataFrame should be empty. "
   ]
  },
  {
   "cell_type": "code",
   "execution_count": 136,
   "metadata": {},
   "outputs": [
    {
     "data": {
      "text/html": [
       "<div>\n",
       "<style scoped>\n",
       "    .dataframe tbody tr th:only-of-type {\n",
       "        vertical-align: middle;\n",
       "    }\n",
       "\n",
       "    .dataframe tbody tr th {\n",
       "        vertical-align: top;\n",
       "    }\n",
       "\n",
       "    .dataframe thead th {\n",
       "        text-align: right;\n",
       "    }\n",
       "</style>\n",
       "<table border=\"1\" class=\"dataframe\">\n",
       "  <thead>\n",
       "    <tr style=\"text-align: right;\">\n",
       "      <th></th>\n",
       "      <th>Risk</th>\n",
       "      <th>Pts to Automate Enforcement</th>\n",
       "      <th>Feature / Rule Name</th>\n",
       "      <th>In scope?</th>\n",
       "    </tr>\n",
       "  </thead>\n",
       "  <tbody>\n",
       "  </tbody>\n",
       "</table>\n",
       "</div>"
      ],
      "text/plain": [
       "Empty DataFrame\n",
       "Columns: [Risk, Pts to Automate Enforcement, Feature / Rule Name, In scope?]\n",
       "Index: []"
      ]
     },
     "execution_count": 136,
     "metadata": {},
     "output_type": "execute_result"
    }
   ],
   "source": [
    "ndf"
   ]
  },
  {
   "cell_type": "markdown",
   "metadata": {},
   "source": [
    "The nlookup dict should have an entry for every record that was in df."
   ]
  },
  {
   "cell_type": "code",
   "execution_count": 137,
   "metadata": {},
   "outputs": [
    {
     "data": {
      "text/plain": [
       "45"
      ]
     },
     "execution_count": 137,
     "metadata": {},
     "output_type": "execute_result"
    }
   ],
   "source": [
    "len(nlookup)"
   ]
  },
  {
   "cell_type": "markdown",
   "metadata": {},
   "source": [
    "Now we need to define our annotation function to lookup the name for the dot being hovered over by the mouse pointer. This code was adapted from the great example given by [ImportanceOfBeingEarnest](https://stackoverflow.com/users/4124317/importanceofbeingernest), who is apparently a member of the matplotlib dev team, in [this Stack Overflow post](https://stackoverflow.com/questions/7908636/possible-to-make-labels-appear-when-hovering-over-a-point-in-matplotlib)."
   ]
  },
  {
   "cell_type": "code",
   "execution_count": 138,
   "metadata": {
    "scrolled": false
   },
   "outputs": [
    {
     "data": {
      "application/vnd.jupyter.widget-view+json": {
       "model_id": "40a8bb813f474d10bd5fdbb49a397ee1",
       "version_major": 2,
       "version_minor": 0
      },
      "text/plain": [
       "Canvas(toolbar=Toolbar(toolitems=[('Home', 'Reset original view', 'home', 'home'), ('Back', 'Back to previous …"
      ]
     },
     "metadata": {},
     "output_type": "display_data"
    },
    {
     "data": {
      "text/plain": [
       "7"
      ]
     },
     "execution_count": 138,
     "metadata": {},
     "output_type": "execute_result"
    }
   ],
   "source": [
    "%matplotlib ipympl\n",
    "\n",
    "sw = sns.swarmplot(x, y)\n",
    "annot = sw.annotate(\"\", xy=(0,0), xytext=(20,20),textcoords=\"offset points\",\n",
    "                    bbox=dict(boxstyle=\"round\", fc=\"w\"),\n",
    "                    arrowprops=dict(arrowstyle=\"->\"))\n",
    "annot.set_visible(False)\n",
    "curdot = None\n",
    "\n",
    "def update_annot(pc, ind):\n",
    "    pos = pc.get_offsets()[ind[\"ind\"][0]]\n",
    "    annot.xy = pos\n",
    "    i, j = pos.astype(np.float16)\n",
    "    text = nlookup[(i,j)]\n",
    "    annot.set_text(text)\n",
    "\n",
    "def hover(event):\n",
    "    global curdot\n",
    "    vis = annot.get_visible()\n",
    "    #print(event)\n",
    "    for pc in sw.collections:\n",
    "        (status, ind) = pc.contains(event)\n",
    "        if status is True:\n",
    "            update_annot(pc, ind)\n",
    "            annot.set_visible(True)\n",
    "            sw.figure.canvas.draw_idle()\n",
    "            break\n",
    "\n",
    "    if status is False and vis:\n",
    "        annot.set_visible(False)\n",
    "        sw.figure.canvas.draw_idle()\n",
    "                \n",
    "sw.figure.canvas.mpl_connect(\"motion_notify_event\", hover)"
   ]
  },
  {
   "cell_type": "code",
   "execution_count": null,
   "metadata": {},
   "outputs": [],
   "source": []
  }
 ],
 "metadata": {
  "kernelspec": {
   "display_name": "Python 3",
   "language": "python",
   "name": "python3"
  },
  "language_info": {
   "codemirror_mode": {
    "name": "ipython",
    "version": 3
   },
   "file_extension": ".py",
   "mimetype": "text/x-python",
   "name": "python",
   "nbconvert_exporter": "python",
   "pygments_lexer": "ipython3",
   "version": "3.7.6"
  }
 },
 "nbformat": 4,
 "nbformat_minor": 2
}
